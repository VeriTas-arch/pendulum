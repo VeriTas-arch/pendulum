{
 "cells": [
  {
   "cell_type": "code",
   "execution_count": null,
   "id": "c4b75def",
   "metadata": {},
   "outputs": [],
   "source": [
    "# setup the environment\n",
    "!git clone https://github.com/VeriTas-arch/pendulum.git\n",
    "%cd pendulum"
   ]
  },
  {
   "cell_type": "code",
   "execution_count": null,
   "id": "86e2c6fe",
   "metadata": {},
   "outputs": [],
   "source": [
    "%pip install -r requirements.txt"
   ]
  },
  {
   "cell_type": "code",
   "execution_count": null,
   "id": "89f46fba",
   "metadata": {},
   "outputs": [],
   "source": [
    "!python src/train_pendulum.py"
   ]
  }
 ],
 "metadata": {
  "kernelspec": {
   "display_name": "RL",
   "language": "python",
   "name": "python3"
  },
  "language_info": {
   "name": "python",
   "version": "3.11.11"
  }
 },
 "nbformat": 4,
 "nbformat_minor": 5
}
